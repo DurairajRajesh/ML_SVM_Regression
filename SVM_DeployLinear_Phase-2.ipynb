{
 "cells": [
  {
   "cell_type": "code",
   "execution_count": 1,
   "id": "4045c49e-a115-4bc2-92b6-4a37957017c2",
   "metadata": {},
   "outputs": [],
   "source": [
    "import pickle"
   ]
  },
  {
   "cell_type": "code",
   "execution_count": 3,
   "id": "5a69748a-75ca-4846-bf1b-e00cde446b78",
   "metadata": {},
   "outputs": [],
   "source": [
    "load_model = pickle.load(open(\"SVM_finalized_model.sav\", 'rb'))"
   ]
  },
  {
   "cell_type": "code",
   "execution_count": 11,
   "id": "4f12a2a9-e695-482f-9d7a-59f7031d7927",
   "metadata": {},
   "outputs": [
    {
     "name": "stdout",
     "output_type": "stream",
     "text": [
      "[64051.49226629]\n"
     ]
    },
    {
     "name": "stderr",
     "output_type": "stream",
     "text": [
      "C:\\Anaconda\\Lib\\site-packages\\sklearn\\base.py:493: UserWarning: X does not have valid feature names, but SVR was fitted with feature names\n",
      "  warnings.warn(\n"
     ]
    }
   ],
   "source": [
    "result = load_model.predict([[24234,68788,12333,1,0]])\n",
    "print(result)"
   ]
  },
  {
   "cell_type": "code",
   "execution_count": 13,
   "id": "ec071af3-61b1-4521-a469-f6caab55b678",
   "metadata": {},
   "outputs": [
    {
     "name": "stdin",
     "output_type": "stream",
     "text": [
      "Enter the Prediction R&D Spend value 6767\n",
      "Enter the Prediction Administration value 87786\n",
      "Enter the Prediction Marketing Spend value 65765\n",
      "Enter the Prediction State_Florida value 1\n",
      "Enter the Prediction State_NewYork value 0\n"
     ]
    },
    {
     "name": "stdout",
     "output_type": "stream",
     "text": [
      "Prediction=[54534.07244741]\n"
     ]
    },
    {
     "name": "stderr",
     "output_type": "stream",
     "text": [
      "C:\\Anaconda\\Lib\\site-packages\\sklearn\\base.py:493: UserWarning: X does not have valid feature names, but SVR was fitted with feature names\n",
      "  warnings.warn(\n"
     ]
    }
   ],
   "source": [
    "predication_input_RnD_Spend=int(input(\"Enter the Prediction R&D Spend value\"))\n",
    "predication_input_Administration=int(input(\"Enter the Prediction Administration value\"))\n",
    "predication_input_Marketing_Spend=int(input(\"Enter the Prediction Marketing Spend value\"))\n",
    "predication_input_State_Florida=int(input(\"Enter the Prediction State_Florida value\"))\n",
    "predication_input_State_NewYork=int(input(\"Enter the Prediction State_NewYork value\"))\n",
    "Future_Preditcion = load_model.predict([[predication_input_RnD_Spend, predication_input_Administration, predication_input_Marketing_Spend, predication_input_State_Florida, predication_input_State_NewYork]])\n",
    "print(\"Prediction={}\".format(Future_Preditcion))"
   ]
  },
  {
   "cell_type": "code",
   "execution_count": null,
   "id": "3deb1f2a-f1dd-457b-974b-27897f03c2a8",
   "metadata": {},
   "outputs": [],
   "source": []
  }
 ],
 "metadata": {
  "kernelspec": {
   "display_name": "Python 3 (ipykernel)",
   "language": "python",
   "name": "python3"
  },
  "language_info": {
   "codemirror_mode": {
    "name": "ipython",
    "version": 3
   },
   "file_extension": ".py",
   "mimetype": "text/x-python",
   "name": "python",
   "nbconvert_exporter": "python",
   "pygments_lexer": "ipython3",
   "version": "3.12.4"
  }
 },
 "nbformat": 4,
 "nbformat_minor": 5
}
